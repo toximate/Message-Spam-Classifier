{
 "cells": [
  {
   "cell_type": "markdown",
   "id": "0121e7ab-0fad-4009-b266-7dd6f1ec4150",
   "metadata": {},
   "source": [
    "# Message SPAM Classifier"
   ]
  },
  {
   "cell_type": "markdown",
   "id": "6ebff380-e04b-4014-9061-a344d1662907",
   "metadata": {},
   "source": [
    "## Load Libs:"
   ]
  },
  {
   "cell_type": "code",
   "execution_count": 2,
   "id": "21e16e22-bb2d-4b2c-bf1c-868d8a7fb6b3",
   "metadata": {},
   "outputs": [],
   "source": [
    "import numpy as np\n",
    "from tensorflow.keras.preprocessing.text import Tokenizer\n",
    "from tensorflow.keras.preprocessing.sequence import pad_sequences\n",
    "from tensorflow.keras.utils import to_categorical\n",
    "from sklearn.model_selection import train_test_split\n",
    "import tqdm\n",
    "\n",
    "from tensorflow.keras.models import Sequential\n",
    "from tensorflow.keras.layers import Embedding , LSTM , Dropout , Dense\n",
    "import matplotlib.pyplot as plt\n",
    "\n",
    "import tkinter as tk\n",
    "from tkinter import messagebox\n"
   ]
  },
  {
   "cell_type": "markdown",
   "id": "12c30cf5-005c-420d-a66e-d51c0e4d8460",
   "metadata": {},
   "source": [
    "## Load Data:"
   ]
  },
  {
   "cell_type": "code",
   "execution_count": 3,
   "id": "f486363e-e157-4c75-a7ef-8410dae4393d",
   "metadata": {},
   "outputs": [],
   "source": [
    "def load_data(path):\n",
    "    text,label=[],[];\n",
    "    with open(path) as file:\n",
    "        for line in file:\n",
    "            tokens= line.split()\n",
    "            label.append(tokens[0])\n",
    "            text.append(' '.join(tokens[1:]))\n",
    "    return [text,label]"
   ]
  },
  {
   "cell_type": "markdown",
   "id": "49e97205-8fa1-49f4-ba3f-0374c6d2cc86",
   "metadata": {},
   "source": [
    "## Mapping:"
   ]
  },
  {
   "cell_type": "code",
   "execution_count": 4,
   "id": "f7d3f074-adca-4a55-80e1-4d89eee3f8b6",
   "metadata": {},
   "outputs": [],
   "source": [
    "X,Y=load_data('Message Classifier\\\\data') \n",
    "word2int={'ham':0,'spam':1}\n",
    "int2word={0:'ham',1:'spam'}"
   ]
  },
  {
   "cell_type": "code",
   "execution_count": 10,
   "id": "8a245c46-716b-4e00-8a93-44ca0183f7d4",
   "metadata": {
    "scrolled": true
   },
   "outputs": [],
   "source": [
    "tokenizer= Tokenizer()\n",
    "tokenizer.fit_on_texts(X)\n",
    "\n",
    "X_digit=tokenizer.texts_to_sequences(X)\n",
    "\n",
    "X_digit=np.array(X_digit,dtype=object)\n",
    "Y=np.array(Y)\n",
    "\n",
    "sen_length=100\n",
    "\n",
    "X_digit=pad_sequences(X_digit,maxlen=sen_length,)#padding='pos ' \n",
    "\n",
    "#tokenizer.word_index\n",
    "#Y = [word2int[y] for y in Y]\n",
    "#Y = to_categorical(Y)"
   ]
  },
  {
   "cell_type": "markdown",
   "id": "8b147846-da33-4423-91fe-1e7713055566",
   "metadata": {},
   "source": [
    "## Split and Shuffle:"
   ]
  },
  {
   "cell_type": "code",
   "execution_count": 11,
   "id": "993a383c-8e4a-4fef-9da9-15d5f7d2dbca",
   "metadata": {},
   "outputs": [
    {
     "name": "stdout",
     "output_type": "stream",
     "text": [
      "Xtrain :  (4180, 100)\n",
      "Xtest :  (1394, 100)\n",
      "Ytrain :  (4180, 2)\n",
      "Ytest :  (1394, 2)\n"
     ]
    }
   ],
   "source": [
    "\n",
    "Xtrain,Xtest,Ytrain,Ytest = train_test_split(X_digit,Y,test_size=0.25, random_state=7)\n",
    "\n",
    "print('Xtrain : ',Xtrain.shape)\n",
    "print('Xtest : ',Xtest.shape)\n",
    "print('Ytrain : ',Ytrain.shape)\n",
    "print('Ytest : ',Ytest.shape)"
   ]
  },
  {
   "cell_type": "markdown",
   "id": "8a8dcdd4-42d6-48b5-8d6b-702fdbd68862",
   "metadata": {},
   "source": [
    "## Generate Embedding:"
   ]
  },
  {
   "cell_type": "code",
   "execution_count": 12,
   "id": "dad2daa5-b4fb-40f6-ba97-e0fead876c5d",
   "metadata": {},
   "outputs": [],
   "source": [
    "def generate_Embedding(tokenizer,dim):\n",
    "    embedding={}\n",
    "    with open(f\"Message Classifier\\\\glove.6B\\\\glove.6B.{dim}d.txt\",encoding='utf8') as file:\n",
    "\n",
    "        for line in tqdm.tqdm(file, \"Reading the GloVe file\"):\n",
    "            tokens = line.split()\n",
    "            word = tokens[0]\n",
    "            vector = np.array(tokens[1:],dtype='float32')\n",
    "            embedding[word] = vector\n",
    "\n",
    "    wordI = tokenizer.word_index\n",
    "    embedding_matrix = np.zeros((len(wordI)+1,dim))\n",
    "\n",
    "    for word, indx in wordI.items():\n",
    "        vector = embedding.get(word)\n",
    "        if vector is not None:\n",
    "            embedding_matrix[indx]= vector\n",
    "            \n",
    "    return embedding_matrix"
   ]
  },
  {
   "cell_type": "code",
   "execution_count": 13,
   "id": "848f940e-f12d-4760-a257-8af8c1ed9303",
   "metadata": {},
   "outputs": [
    {
     "name": "stderr",
     "output_type": "stream",
     "text": [
      "Reading the GloVe file: 400000it [00:07, 53286.19it/s]\n"
     ]
    }
   ],
   "source": [
    "embedding_matrix= generate_Embedding(tokenizer,100)"
   ]
  },
  {
   "cell_type": "code",
   "execution_count": 14,
   "id": "7a61f315-a3d8-41f8-8316-17846b638739",
   "metadata": {},
   "outputs": [
    {
     "data": {
      "text/plain": [
       "array([[[ 0.        ,  0.        ,  0.        , ...,  0.        ,\n",
       "          0.        ,  0.        ],\n",
       "        [-0.046539  ,  0.61966002,  0.56647003, ..., -0.37616   ,\n",
       "         -0.032502  ,  0.80620003],\n",
       "        [-0.18970001,  0.050024  ,  0.19084001, ..., -0.39804   ,\n",
       "          0.47646999, -0.15983   ],\n",
       "        ...,\n",
       "        [-0.12201   ,  0.20465   ,  0.53192002, ..., -0.164     ,\n",
       "         -0.41637   ,  0.66426003],\n",
       "        [-0.41600999,  0.16974001,  0.43457001, ..., -0.083432  ,\n",
       "          0.49520999,  0.77258003],\n",
       "        [ 0.46118999,  0.3567    ,  0.026078  , ..., -0.0056525 ,\n",
       "          0.55176002,  0.77563   ]]])"
      ]
     },
     "execution_count": 14,
     "metadata": {},
     "output_type": "execute_result"
    }
   ],
   "source": [
    "embedding_matrix[tokenizer.word_index.get('tunis')]"
   ]
  },
  {
   "cell_type": "markdown",
   "id": "03af4cc4-a7a1-4423-8c8e-41c19b140ca2",
   "metadata": {},
   "source": [
    "## Build LSTM model:"
   ]
  },
  {
   "cell_type": "code",
   "execution_count": 17,
   "id": "0e4452fd-75f8-47a6-9b7f-c1615338d553",
   "metadata": {},
   "outputs": [],
   "source": [
    "#LONG SHORT TERM MEMORY\n",
    "\n",
    "def build_model(embedding_matrix, lstm_untis):\n",
    "    model = Sequential()\n",
    "    model.add(Embedding(embedding_matrix.shape[0],embedding_matrix.shape[1],\n",
    "                       weights= [embedding_matrix],\n",
    "                       trainable=False,\n",
    "                       input_length=sen_length ))\n",
    "\n",
    "    model.add(LSTM(lstm_untis,recurrent_dropout=0.2))\n",
    "    model.add(Dropout(0.3))\n",
    "    model.add(Dense(2,activation='softmax'))\n",
    "    \n",
    "    model.compile(optimizer='adam', loss='categorical_crossentropy',metrics=['accuracy'])\n",
    "    model.summary()\n",
    "\n",
    "    return model"
   ]
  },
  {
   "cell_type": "code",
   "execution_count": 18,
   "id": "3022294d-a355-4345-bf58-cdda0ede9fa9",
   "metadata": {},
   "outputs": [
    {
     "data": {
      "text/html": [
       "<pre style=\"white-space:pre;overflow-x:auto;line-height:normal;font-family:Menlo,'DejaVu Sans Mono',consolas,'Courier New',monospace\"><span style=\"font-weight: bold\">Model: \"sequential_1\"</span>\n",
       "</pre>\n"
      ],
      "text/plain": [
       "\u001b[1mModel: \"sequential_1\"\u001b[0m\n"
      ]
     },
     "metadata": {},
     "output_type": "display_data"
    },
    {
     "data": {
      "text/html": [
       "<pre style=\"white-space:pre;overflow-x:auto;line-height:normal;font-family:Menlo,'DejaVu Sans Mono',consolas,'Courier New',monospace\">┏━━━━━━━━━━━━━━━━━━━━━━━━━━━━━━━━━━━━━━┳━━━━━━━━━━━━━━━━━━━━━━━━━━━━━┳━━━━━━━━━━━━━━━━━┓\n",
       "┃<span style=\"font-weight: bold\"> Layer (type)                         </span>┃<span style=\"font-weight: bold\"> Output Shape                </span>┃<span style=\"font-weight: bold\">         Param # </span>┃\n",
       "┡━━━━━━━━━━━━━━━━━━━━━━━━━━━━━━━━━━━━━━╇━━━━━━━━━━━━━━━━━━━━━━━━━━━━━╇━━━━━━━━━━━━━━━━━┩\n",
       "│ embedding_1 (<span style=\"color: #0087ff; text-decoration-color: #0087ff\">Embedding</span>)              │ ?                           │         <span style=\"color: #00af00; text-decoration-color: #00af00\">901,300</span> │\n",
       "├──────────────────────────────────────┼─────────────────────────────┼─────────────────┤\n",
       "│ lstm_1 (<span style=\"color: #0087ff; text-decoration-color: #0087ff\">LSTM</span>)                        │ ?                           │     <span style=\"color: #00af00; text-decoration-color: #00af00\">0</span> (unbuilt) │\n",
       "├──────────────────────────────────────┼─────────────────────────────┼─────────────────┤\n",
       "│ dropout_1 (<span style=\"color: #0087ff; text-decoration-color: #0087ff\">Dropout</span>)                  │ ?                           │     <span style=\"color: #00af00; text-decoration-color: #00af00\">0</span> (unbuilt) │\n",
       "├──────────────────────────────────────┼─────────────────────────────┼─────────────────┤\n",
       "│ dense_1 (<span style=\"color: #0087ff; text-decoration-color: #0087ff\">Dense</span>)                      │ ?                           │     <span style=\"color: #00af00; text-decoration-color: #00af00\">0</span> (unbuilt) │\n",
       "└──────────────────────────────────────┴─────────────────────────────┴─────────────────┘\n",
       "</pre>\n"
      ],
      "text/plain": [
       "┏━━━━━━━━━━━━━━━━━━━━━━━━━━━━━━━━━━━━━━┳━━━━━━━━━━━━━━━━━━━━━━━━━━━━━┳━━━━━━━━━━━━━━━━━┓\n",
       "┃\u001b[1m \u001b[0m\u001b[1mLayer (type)                        \u001b[0m\u001b[1m \u001b[0m┃\u001b[1m \u001b[0m\u001b[1mOutput Shape               \u001b[0m\u001b[1m \u001b[0m┃\u001b[1m \u001b[0m\u001b[1m        Param #\u001b[0m\u001b[1m \u001b[0m┃\n",
       "┡━━━━━━━━━━━━━━━━━━━━━━━━━━━━━━━━━━━━━━╇━━━━━━━━━━━━━━━━━━━━━━━━━━━━━╇━━━━━━━━━━━━━━━━━┩\n",
       "│ embedding_1 (\u001b[38;5;33mEmbedding\u001b[0m)              │ ?                           │         \u001b[38;5;34m901,300\u001b[0m │\n",
       "├──────────────────────────────────────┼─────────────────────────────┼─────────────────┤\n",
       "│ lstm_1 (\u001b[38;5;33mLSTM\u001b[0m)                        │ ?                           │     \u001b[38;5;34m0\u001b[0m (unbuilt) │\n",
       "├──────────────────────────────────────┼─────────────────────────────┼─────────────────┤\n",
       "│ dropout_1 (\u001b[38;5;33mDropout\u001b[0m)                  │ ?                           │     \u001b[38;5;34m0\u001b[0m (unbuilt) │\n",
       "├──────────────────────────────────────┼─────────────────────────────┼─────────────────┤\n",
       "│ dense_1 (\u001b[38;5;33mDense\u001b[0m)                      │ ?                           │     \u001b[38;5;34m0\u001b[0m (unbuilt) │\n",
       "└──────────────────────────────────────┴─────────────────────────────┴─────────────────┘\n"
      ]
     },
     "metadata": {},
     "output_type": "display_data"
    },
    {
     "data": {
      "text/html": [
       "<pre style=\"white-space:pre;overflow-x:auto;line-height:normal;font-family:Menlo,'DejaVu Sans Mono',consolas,'Courier New',monospace\"><span style=\"font-weight: bold\"> Total params: </span><span style=\"color: #00af00; text-decoration-color: #00af00\">901,300</span> (3.44 MB)\n",
       "</pre>\n"
      ],
      "text/plain": [
       "\u001b[1m Total params: \u001b[0m\u001b[38;5;34m901,300\u001b[0m (3.44 MB)\n"
      ]
     },
     "metadata": {},
     "output_type": "display_data"
    },
    {
     "data": {
      "text/html": [
       "<pre style=\"white-space:pre;overflow-x:auto;line-height:normal;font-family:Menlo,'DejaVu Sans Mono',consolas,'Courier New',monospace\"><span style=\"font-weight: bold\"> Trainable params: </span><span style=\"color: #00af00; text-decoration-color: #00af00\">0</span> (0.00 B)\n",
       "</pre>\n"
      ],
      "text/plain": [
       "\u001b[1m Trainable params: \u001b[0m\u001b[38;5;34m0\u001b[0m (0.00 B)\n"
      ]
     },
     "metadata": {},
     "output_type": "display_data"
    },
    {
     "data": {
      "text/html": [
       "<pre style=\"white-space:pre;overflow-x:auto;line-height:normal;font-family:Menlo,'DejaVu Sans Mono',consolas,'Courier New',monospace\"><span style=\"font-weight: bold\"> Non-trainable params: </span><span style=\"color: #00af00; text-decoration-color: #00af00\">901,300</span> (3.44 MB)\n",
       "</pre>\n"
      ],
      "text/plain": [
       "\u001b[1m Non-trainable params: \u001b[0m\u001b[38;5;34m901,300\u001b[0m (3.44 MB)\n"
      ]
     },
     "metadata": {},
     "output_type": "display_data"
    }
   ],
   "source": [
    "model=build_model(embedding_matrix, 128)"
   ]
  },
  {
   "cell_type": "markdown",
   "id": "6ad80009-d9e9-49fa-82a4-eb1c8bddd436",
   "metadata": {},
   "source": [
    "### Train the model:"
   ]
  },
  {
   "cell_type": "code",
   "execution_count": 19,
   "id": "db94d6c7-d96f-4d3a-97da-d7ac2413c7ee",
   "metadata": {},
   "outputs": [
    {
     "name": "stdout",
     "output_type": "stream",
     "text": [
      "Epoch 1/10\n",
      "\u001b[1m66/66\u001b[0m \u001b[32m━━━━━━━━━━━━━━━━━━━━\u001b[0m\u001b[37m\u001b[0m \u001b[1m6s\u001b[0m 59ms/step - accuracy: 0.8752 - loss: 0.3027 - val_accuracy: 0.9562 - val_loss: 0.1185\n",
      "Epoch 2/10\n",
      "\u001b[1m66/66\u001b[0m \u001b[32m━━━━━━━━━━━━━━━━━━━━\u001b[0m\u001b[37m\u001b[0m \u001b[1m4s\u001b[0m 56ms/step - accuracy: 0.9697 - loss: 0.0914 - val_accuracy: 0.9677 - val_loss: 0.0910\n",
      "Epoch 3/10\n",
      "\u001b[1m66/66\u001b[0m \u001b[32m━━━━━━━━━━━━━━━━━━━━\u001b[0m\u001b[37m\u001b[0m \u001b[1m4s\u001b[0m 56ms/step - accuracy: 0.9777 - loss: 0.0724 - val_accuracy: 0.9749 - val_loss: 0.0724\n",
      "Epoch 4/10\n",
      "\u001b[1m66/66\u001b[0m \u001b[32m━━━━━━━━━━━━━━━━━━━━\u001b[0m\u001b[37m\u001b[0m \u001b[1m4s\u001b[0m 56ms/step - accuracy: 0.9845 - loss: 0.0602 - val_accuracy: 0.9785 - val_loss: 0.0694\n",
      "Epoch 5/10\n",
      "\u001b[1m66/66\u001b[0m \u001b[32m━━━━━━━━━━━━━━━━━━━━\u001b[0m\u001b[37m\u001b[0m \u001b[1m4s\u001b[0m 57ms/step - accuracy: 0.9865 - loss: 0.0441 - val_accuracy: 0.9792 - val_loss: 0.0696\n",
      "Epoch 6/10\n",
      "\u001b[1m66/66\u001b[0m \u001b[32m━━━━━━━━━━━━━━━━━━━━\u001b[0m\u001b[37m\u001b[0m \u001b[1m4s\u001b[0m 55ms/step - accuracy: 0.9850 - loss: 0.0394 - val_accuracy: 0.9641 - val_loss: 0.1015\n",
      "Epoch 7/10\n",
      "\u001b[1m66/66\u001b[0m \u001b[32m━━━━━━━━━━━━━━━━━━━━\u001b[0m\u001b[37m\u001b[0m \u001b[1m4s\u001b[0m 55ms/step - accuracy: 0.9850 - loss: 0.0444 - val_accuracy: 0.9727 - val_loss: 0.0848\n",
      "Epoch 8/10\n",
      "\u001b[1m66/66\u001b[0m \u001b[32m━━━━━━━━━━━━━━━━━━━━\u001b[0m\u001b[37m\u001b[0m \u001b[1m4s\u001b[0m 55ms/step - accuracy: 0.9911 - loss: 0.0389 - val_accuracy: 0.9785 - val_loss: 0.0642\n",
      "Epoch 9/10\n",
      "\u001b[1m66/66\u001b[0m \u001b[32m━━━━━━━━━━━━━━━━━━━━\u001b[0m\u001b[37m\u001b[0m \u001b[1m4s\u001b[0m 55ms/step - accuracy: 0.9939 - loss: 0.0220 - val_accuracy: 0.9813 - val_loss: 0.0639\n",
      "Epoch 10/10\n",
      "\u001b[1m66/66\u001b[0m \u001b[32m━━━━━━━━━━━━━━━━━━━━\u001b[0m\u001b[37m\u001b[0m \u001b[1m4s\u001b[0m 56ms/step - accuracy: 0.9950 - loss: 0.0214 - val_accuracy: 0.9799 - val_loss: 0.0640\n"
     ]
    }
   ],
   "source": [
    "history =model.fit(Xtrain,Ytrain,validation_data=(Xtest,Ytest),batch_size=64,epochs=10,verbose=1)"
   ]
  },
  {
   "cell_type": "markdown",
   "id": "2554d203-5652-42c4-9e5c-9028edf15f02",
   "metadata": {},
   "source": [
    "## Report the results:"
   ]
  },
  {
   "cell_type": "code",
   "execution_count": 20,
   "id": "3fd643a7-1b8a-4b41-ac64-02eefc17ca1c",
   "metadata": {},
   "outputs": [
    {
     "data": {
      "text/plain": [
       "dict_keys(['accuracy', 'loss', 'val_accuracy', 'val_loss'])"
      ]
     },
     "execution_count": 20,
     "metadata": {},
     "output_type": "execute_result"
    }
   ],
   "source": [
    "report=history.history\n",
    "report.keys()\n"
   ]
  },
  {
   "cell_type": "code",
   "execution_count": 21,
   "id": "0b3f23d3-d27b-429c-84a9-cf837edf8c5f",
   "metadata": {},
   "outputs": [
    {
     "data": {
      "text/plain": [
       "<matplotlib.legend.Legend at 0x28adf203a50>"
      ]
     },
     "execution_count": 21,
     "metadata": {},
     "output_type": "execute_result"
    },
    {
     "data": {
      "image/png": "[encoded data removed]",
      "text/plain": [
       "<Figure size 640x480 with 1 Axes>"
      ]
     },
     "metadata": {},
     "output_type": "display_data"
    }
   ],
   "source": [
    "acc = report['accuracy']\n",
    "val_acc = report['val_accuracy']\n",
    "epochs =range(1,11)\n",
    "\n",
    "plt.plot(epochs , acc,'r' ,label=\"Training Acc\");\n",
    "plt.plot(epochs , val_acc,'b' ,label=\"Validation Acc\");\n",
    "plt.title(\"Training & Validation Accuracy\")\n",
    "plt.xlabel(\"Epochs\");\n",
    "plt.ylabel(\"Accuracy\");\n",
    "plt.legend(loc='lower right')"
   ]
  },
  {
   "cell_type": "code",
   "execution_count": 15,
   "id": "a477695d-3d1e-4b6f-afd1-64559aa51341",
   "metadata": {},
   "outputs": [
    {
     "data": {
      "text/plain": [
       "<matplotlib.legend.Legend at 0x1f3664ef550>"
      ]
     },
     "execution_count": 15,
     "metadata": {},
     "output_type": "execute_result"
    },
    {
     "data": {
      "image/png": "[encoded data removed]",
      "text/plain": [
       "<Figure size 640x480 with 1 Axes>"
      ]
     },
     "metadata": {},
     "output_type": "display_data"
    }
   ],
   "source": [
    "loss = report['loss']\n",
    "val_loss = report['val_loss']\n",
    "epochs =range(1,11)\n",
    "\n",
    "plt.plot(epochs , loss,'r' ,label=\"Training loss\");\n",
    "plt.plot(epochs , val_loss,'b' ,label=\"Validation loss\");\n",
    "plt.title(\"Training & Validation loss\")\n",
    "plt.xlabel(\"Epochs\");\n",
    "plt.ylabel(\"Loss\");\n",
    "plt.legend(loc='lower right')"
   ]
  },
  {
   "cell_type": "code",
   "execution_count": 22,
   "id": "36f01120-c810-4710-b3bc-2a6812fa8a58",
   "metadata": {},
   "outputs": [
    {
     "name": "stdout",
     "output_type": "stream",
     "text": [
      "\u001b[1m44/44\u001b[0m \u001b[32m━━━━━━━━━━━━━━━━━━━━\u001b[0m\u001b[37m\u001b[0m \u001b[1m1s\u001b[0m 11ms/step - accuracy: 0.9831 - loss: 0.0576\n",
      "Accuracy : 97.99%\n"
     ]
    }
   ],
   "source": [
    "# results \n",
    "\n",
    "results = model.evaluate(Xtest,Ytest)\n",
    "\n",
    "print(f'Accuracy : {results[1]*100:.2f}%')"
   ]
  },
  {
   "cell_type": "markdown",
   "id": "8e8affae-7ef6-4b5f-a0a5-e98561e0a64d",
   "metadata": {},
   "source": [
    "## TESTING:"
   ]
  },
  {
   "cell_type": "code",
   "execution_count": 23,
   "id": "b7dd7bdb-68fe-4ea3-bb4d-bf59d6e2d3f6",
   "metadata": {},
   "outputs": [],
   "source": [
    "def prediction(model,sms):\n",
    "    seq=tokenizer.texts_to_sequences([sms])\n",
    "    seq=pad_sequences(seq,maxlen=sen_length)\n",
    "\n",
    "    predict=model.predict(seq)[0]\n",
    "    return int2word[np.argmax(predict)]"
   ]
  },
  {
   "cell_type": "code",
   "execution_count": 24,
   "id": "a0985ec9-765e-4f67-8816-c416d0be277a",
   "metadata": {},
   "outputs": [
    {
     "name": "stdout",
     "output_type": "stream",
     "text": [
      "\u001b[1m1/1\u001b[0m \u001b[32m━━━━━━━━━━━━━━━━━━━━\u001b[0m\u001b[37m\u001b[0m \u001b[1m0s\u001b[0m 184ms/step\n"
     ]
    },
    {
     "data": {
      "text/plain": [
       "'ham'"
      ]
     },
     "execution_count": 24,
     "metadata": {},
     "output_type": "execute_result"
    }
   ],
   "source": [
    "prediction(model,\"Even my brother is not like to speak with me. They treat me like aids patent\")"
   ]
  },
  {
   "cell_type": "markdown",
   "id": "aab5015f-346d-43d0-9ebc-4f8a5c67799a",
   "metadata": {},
   "source": [
    "## Saving the Classifier (.h5 or .KERAS files)"
   ]
  },
  {
   "cell_type": "code",
   "execution_count": 25,
   "id": "93872c88-67f6-4844-9b9b-9503b0915c53",
   "metadata": {},
   "outputs": [
    {
     "name": "stderr",
     "output_type": "stream",
     "text": [
      "WARNING:absl:You are saving your model as an HDF5 file via `model.save()` or `keras.saving.save_model(model)`. This file format is considered legacy. We recommend using instead the native Keras format, e.g. `model.save('my_model.keras')` or `keras.saving.save_model(model, 'my_model.keras')`. \n"
     ]
    }
   ],
   "source": [
    "model.save('msg_classifier_model.h5')"
   ]
  },
  {
   "cell_type": "code",
   "execution_count": null,
   "id": "8612cfb6-084e-4b9f-b073-b4b160746434",
   "metadata": {},
   "outputs": [],
   "source": [
    "def classify_text():\n",
    "    text = text_entry.get(\"1.0\", tk.END).strip()\n",
    "    if text:\n",
    "        result = prediction(model, text)\n",
    "        result_label.config(text=f\"Prediction: {result}\")\n",
    "    else:\n",
    "        messagebox.showwarning(\"Input Error\", \"Please enter some text to classify.\")\n",
    "\n",
    "# Initialize the main window\n",
    "root = tk.Tk()\n",
    "root.title(\"Message Classifier\")\n",
    "\n",
    "# Create a text entry widget\n",
    "text_entry = tk.Text(root, height=10, width=50)\n",
    "text_entry.pack(pady=10)\n",
    "\n",
    "# Create a button to classify the text\n",
    "classify_button = tk.Button(root, text=\"Classify\", command=classify_text)\n",
    "classify_button.pack(pady=5)\n",
    "\n",
    "# Create a label to display the result\n",
    "result_label = tk.Label(root, text=\"Prediction: \")\n",
    "result_label.pack(pady=5)\n",
    "\n",
    "# Run the main loop\n",
    "root.mainloop()"
   ]
  }
 ],
 "metadata": {
  "kernelspec": {
   "display_name": "Python 3 (ipykernel)",
   "language": "python",
   "name": "python3"
  },
  "language_info": {
   "codemirror_mode": {
    "name": "ipython",
    "version": 3
   },
   "file_extension": ".py",
   "mimetype": "text/x-python",
   "name": "python",
   "nbconvert_exporter": "python",
   "pygments_lexer": "ipython3",
   "version": "3.11.7"
  }
 },
 "nbformat": 4,
 "nbformat_minor": 5
}
